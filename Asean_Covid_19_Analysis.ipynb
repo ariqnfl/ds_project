{
  "nbformat": 4,
  "nbformat_minor": 0,
  "metadata": {
    "colab": {
      "name": "Asean Covid 19 Analysis.ipynb",
      "provenance": [],
      "authorship_tag": "ABX9TyMx4bBxOS96pMkl4VKKKr2W",
      "include_colab_link": true
    },
    "kernelspec": {
      "name": "python3",
      "display_name": "Python 3"
    }
  },
  "cells": [
    {
      "cell_type": "markdown",
      "metadata": {
        "id": "view-in-github",
        "colab_type": "text"
      },
      "source": [
        "<a href=\"https://colab.research.google.com/github/ariqnfl/ds_project/blob/main/Asean_Covid_19_Analysis.ipynb\" target=\"_parent\"><img src=\"https://colab.research.google.com/assets/colab-badge.svg\" alt=\"Open In Colab\"/></a>"
      ]
    },
    {
      "cell_type": "code",
      "metadata": {
        "id": "S-Q3ABg0UbVf"
      },
      "source": [
        "import json\r\n",
        "import numpy as np\r\n",
        "import pandas as pd\r\n",
        "import requests"
      ],
      "execution_count": 1,
      "outputs": []
    },
    {
      "cell_type": "code",
      "metadata": {
        "id": "mgy0TDsVUqwx"
      },
      "source": [
        "def get_json(api_url):\r\n",
        "\tresponse = requests.get(api_url)\r\n",
        "\tif response.status_code == 200:\r\n",
        "\t\treturn json.loads(response.content.decode('utf-8'))\r\n",
        "\telse:\r\n",
        "\t\treturn None"
      ],
      "execution_count": 2,
      "outputs": []
    },
    {
      "cell_type": "code",
      "metadata": {
        "colab": {
          "base_uri": "https://localhost:8080/"
        },
        "id": "mgUlBYhtU1pR",
        "outputId": "ba686efe-90d4-44d1-ccbd-b7036cb076d8"
      },
      "source": [
        "record_date = '2021-01-05'\r\n",
        "covid_url = 'https://covid19-api.org/api/status?date='+record_date\r\n",
        "df_covid_worldwide = pd.io.json.json_normalize(get_json(covid_url))\r\n",
        "\r\n",
        "print(df_covid_worldwide.head())"
      ],
      "execution_count": 3,
      "outputs": [
        {
          "output_type": "stream",
          "text": [
            "  country          last_update     cases  deaths  recovered\n",
            "0      US  2021-01-04T23:22:27  20782635  353069          0\n",
            "1      IN  2021-01-04T23:22:27  10340469  149649    9946867\n",
            "2      BR  2021-01-04T23:22:27   7753752  196561    6950045\n",
            "3      RU  2021-01-04T23:22:27   3226758   58203    2612934\n",
            "4      GB  2021-01-04T23:22:27   2721590   75544       6145\n"
          ],
          "name": "stdout"
        },
        {
          "output_type": "stream",
          "text": [
            "/usr/local/lib/python3.6/dist-packages/ipykernel_launcher.py:3: FutureWarning: pandas.io.json.json_normalize is deprecated, use pandas.json_normalize instead\n",
            "  This is separate from the ipykernel package so we can avoid doing imports until\n"
          ],
          "name": "stderr"
        }
      ]
    },
    {
      "cell_type": "code",
      "metadata": {
        "id": "gT2UF264VbFa"
      },
      "source": [
        "df_covid_worldwide['last_update'] = pd.to_datetime(df_covid_worldwide['last_update'], format='%Y-%m-%d %H:%M:%S')\r\n",
        "df_covid_worldwide['last_update'] = df_covid_worldwide['last_update'].apply(lambda x: x.date())"
      ],
      "execution_count": 8,
      "outputs": []
    },
    {
      "cell_type": "code",
      "metadata": {
        "colab": {
          "base_uri": "https://localhost:8080/",
          "height": 197
        },
        "id": "rCAZqnNuV_np",
        "outputId": "7ea12aa1-ec1b-4795-b498-6f80784ba7b1"
      },
      "source": [
        "df_covid_worldwide.head()"
      ],
      "execution_count": 9,
      "outputs": [
        {
          "output_type": "execute_result",
          "data": {
            "text/html": [
              "<div>\n",
              "<style scoped>\n",
              "    .dataframe tbody tr th:only-of-type {\n",
              "        vertical-align: middle;\n",
              "    }\n",
              "\n",
              "    .dataframe tbody tr th {\n",
              "        vertical-align: top;\n",
              "    }\n",
              "\n",
              "    .dataframe thead th {\n",
              "        text-align: right;\n",
              "    }\n",
              "</style>\n",
              "<table border=\"1\" class=\"dataframe\">\n",
              "  <thead>\n",
              "    <tr style=\"text-align: right;\">\n",
              "      <th></th>\n",
              "      <th>country</th>\n",
              "      <th>last_update</th>\n",
              "      <th>cases</th>\n",
              "      <th>deaths</th>\n",
              "      <th>recovered</th>\n",
              "    </tr>\n",
              "  </thead>\n",
              "  <tbody>\n",
              "    <tr>\n",
              "      <th>0</th>\n",
              "      <td>US</td>\n",
              "      <td>2021-01-04</td>\n",
              "      <td>20782635</td>\n",
              "      <td>353069</td>\n",
              "      <td>0</td>\n",
              "    </tr>\n",
              "    <tr>\n",
              "      <th>1</th>\n",
              "      <td>IN</td>\n",
              "      <td>2021-01-04</td>\n",
              "      <td>10340469</td>\n",
              "      <td>149649</td>\n",
              "      <td>9946867</td>\n",
              "    </tr>\n",
              "    <tr>\n",
              "      <th>2</th>\n",
              "      <td>BR</td>\n",
              "      <td>2021-01-04</td>\n",
              "      <td>7753752</td>\n",
              "      <td>196561</td>\n",
              "      <td>6950045</td>\n",
              "    </tr>\n",
              "    <tr>\n",
              "      <th>3</th>\n",
              "      <td>RU</td>\n",
              "      <td>2021-01-04</td>\n",
              "      <td>3226758</td>\n",
              "      <td>58203</td>\n",
              "      <td>2612934</td>\n",
              "    </tr>\n",
              "    <tr>\n",
              "      <th>4</th>\n",
              "      <td>GB</td>\n",
              "      <td>2021-01-04</td>\n",
              "      <td>2721590</td>\n",
              "      <td>75544</td>\n",
              "      <td>6145</td>\n",
              "    </tr>\n",
              "  </tbody>\n",
              "</table>\n",
              "</div>"
            ],
            "text/plain": [
              "  country last_update     cases  deaths  recovered\n",
              "0      US  2021-01-04  20782635  353069          0\n",
              "1      IN  2021-01-04  10340469  149649    9946867\n",
              "2      BR  2021-01-04   7753752  196561    6950045\n",
              "3      RU  2021-01-04   3226758   58203    2612934\n",
              "4      GB  2021-01-04   2721590   75544       6145"
            ]
          },
          "metadata": {
            "tags": []
          },
          "execution_count": 9
        }
      ]
    },
    {
      "cell_type": "code",
      "metadata": {
        "colab": {
          "base_uri": "https://localhost:8080/",
          "height": 231
        },
        "id": "TKqov5GpWlX8",
        "outputId": "efe4a190-3009-44f8-de40-090a569586ad"
      },
      "source": [
        "countries_url = 'https://covid19-api.org/api/countries'\r\n",
        "df_countries = pd.io.json.json_normalize(get_json(countries_url))\r\n",
        "df_countries = df_countries.rename(columns={'alpha2': 'country'})[['name','country']]\r\n",
        "\r\n",
        "df_countries.head()"
      ],
      "execution_count": 13,
      "outputs": [
        {
          "output_type": "stream",
          "text": [
            "/usr/local/lib/python3.6/dist-packages/ipykernel_launcher.py:2: FutureWarning: pandas.io.json.json_normalize is deprecated, use pandas.json_normalize instead\n",
            "  \n"
          ],
          "name": "stderr"
        },
        {
          "output_type": "execute_result",
          "data": {
            "text/html": [
              "<div>\n",
              "<style scoped>\n",
              "    .dataframe tbody tr th:only-of-type {\n",
              "        vertical-align: middle;\n",
              "    }\n",
              "\n",
              "    .dataframe tbody tr th {\n",
              "        vertical-align: top;\n",
              "    }\n",
              "\n",
              "    .dataframe thead th {\n",
              "        text-align: right;\n",
              "    }\n",
              "</style>\n",
              "<table border=\"1\" class=\"dataframe\">\n",
              "  <thead>\n",
              "    <tr style=\"text-align: right;\">\n",
              "      <th></th>\n",
              "      <th>name</th>\n",
              "      <th>country</th>\n",
              "    </tr>\n",
              "  </thead>\n",
              "  <tbody>\n",
              "    <tr>\n",
              "      <th>0</th>\n",
              "      <td>Afghanistan</td>\n",
              "      <td>AF</td>\n",
              "    </tr>\n",
              "    <tr>\n",
              "      <th>1</th>\n",
              "      <td>Albania</td>\n",
              "      <td>AL</td>\n",
              "    </tr>\n",
              "    <tr>\n",
              "      <th>2</th>\n",
              "      <td>Algeria</td>\n",
              "      <td>DZ</td>\n",
              "    </tr>\n",
              "    <tr>\n",
              "      <th>3</th>\n",
              "      <td>Andorra</td>\n",
              "      <td>AD</td>\n",
              "    </tr>\n",
              "    <tr>\n",
              "      <th>4</th>\n",
              "      <td>Angola</td>\n",
              "      <td>AO</td>\n",
              "    </tr>\n",
              "  </tbody>\n",
              "</table>\n",
              "</div>"
            ],
            "text/plain": [
              "          name country\n",
              "0  Afghanistan      AF\n",
              "1      Albania      AL\n",
              "2      Algeria      DZ\n",
              "3      Andorra      AD\n",
              "4       Angola      AO"
            ]
          },
          "metadata": {
            "tags": []
          },
          "execution_count": 13
        }
      ]
    },
    {
      "cell_type": "code",
      "metadata": {
        "colab": {
          "base_uri": "https://localhost:8080/",
          "height": 197
        },
        "id": "69am21SFW8A4",
        "outputId": "b284a04a-aadd-4672-d4dd-5457b7be3140"
      },
      "source": [
        "df_covid_denormalized = pd.merge(df_covid_worldwide, df_countries, on='country')\r\n",
        "\r\n",
        "df_covid_denormalized.head()"
      ],
      "execution_count": 14,
      "outputs": [
        {
          "output_type": "execute_result",
          "data": {
            "text/html": [
              "<div>\n",
              "<style scoped>\n",
              "    .dataframe tbody tr th:only-of-type {\n",
              "        vertical-align: middle;\n",
              "    }\n",
              "\n",
              "    .dataframe tbody tr th {\n",
              "        vertical-align: top;\n",
              "    }\n",
              "\n",
              "    .dataframe thead th {\n",
              "        text-align: right;\n",
              "    }\n",
              "</style>\n",
              "<table border=\"1\" class=\"dataframe\">\n",
              "  <thead>\n",
              "    <tr style=\"text-align: right;\">\n",
              "      <th></th>\n",
              "      <th>country</th>\n",
              "      <th>last_update</th>\n",
              "      <th>cases</th>\n",
              "      <th>deaths</th>\n",
              "      <th>recovered</th>\n",
              "      <th>name</th>\n",
              "    </tr>\n",
              "  </thead>\n",
              "  <tbody>\n",
              "    <tr>\n",
              "      <th>0</th>\n",
              "      <td>US</td>\n",
              "      <td>2021-01-04</td>\n",
              "      <td>20782635</td>\n",
              "      <td>353069</td>\n",
              "      <td>0</td>\n",
              "      <td>United States of America</td>\n",
              "    </tr>\n",
              "    <tr>\n",
              "      <th>1</th>\n",
              "      <td>IN</td>\n",
              "      <td>2021-01-04</td>\n",
              "      <td>10340469</td>\n",
              "      <td>149649</td>\n",
              "      <td>9946867</td>\n",
              "      <td>India</td>\n",
              "    </tr>\n",
              "    <tr>\n",
              "      <th>2</th>\n",
              "      <td>BR</td>\n",
              "      <td>2021-01-04</td>\n",
              "      <td>7753752</td>\n",
              "      <td>196561</td>\n",
              "      <td>6950045</td>\n",
              "      <td>Brazil</td>\n",
              "    </tr>\n",
              "    <tr>\n",
              "      <th>3</th>\n",
              "      <td>RU</td>\n",
              "      <td>2021-01-04</td>\n",
              "      <td>3226758</td>\n",
              "      <td>58203</td>\n",
              "      <td>2612934</td>\n",
              "      <td>Russian Federation</td>\n",
              "    </tr>\n",
              "    <tr>\n",
              "      <th>4</th>\n",
              "      <td>GB</td>\n",
              "      <td>2021-01-04</td>\n",
              "      <td>2721590</td>\n",
              "      <td>75544</td>\n",
              "      <td>6145</td>\n",
              "      <td>United Kingdom of Great Britain and Northern I...</td>\n",
              "    </tr>\n",
              "  </tbody>\n",
              "</table>\n",
              "</div>"
            ],
            "text/plain": [
              "  country  ...                                               name\n",
              "0      US  ...                           United States of America\n",
              "1      IN  ...                                              India\n",
              "2      BR  ...                                             Brazil\n",
              "3      RU  ...                                 Russian Federation\n",
              "4      GB  ...  United Kingdom of Great Britain and Northern I...\n",
              "\n",
              "[5 rows x 6 columns]"
            ]
          },
          "metadata": {
            "tags": []
          },
          "execution_count": 14
        }
      ]
    },
    {
      "cell_type": "code",
      "metadata": {
        "id": "SveJwXLMXIuD"
      },
      "source": [
        "df_covid_denormalized['fatality_ratio'] = df_covid_denormalized.deaths / df_covid_denormalized.cases"
      ],
      "execution_count": 15,
      "outputs": []
    },
    {
      "cell_type": "code",
      "metadata": {
        "colab": {
          "base_uri": "https://localhost:8080/",
          "height": 197
        },
        "id": "S_F6R1CMXiLZ",
        "outputId": "bcb326e9-ea40-4926-937f-1e6be63c6ff9"
      },
      "source": [
        "df_covid_denormalized.head()"
      ],
      "execution_count": 16,
      "outputs": [
        {
          "output_type": "execute_result",
          "data": {
            "text/html": [
              "<div>\n",
              "<style scoped>\n",
              "    .dataframe tbody tr th:only-of-type {\n",
              "        vertical-align: middle;\n",
              "    }\n",
              "\n",
              "    .dataframe tbody tr th {\n",
              "        vertical-align: top;\n",
              "    }\n",
              "\n",
              "    .dataframe thead th {\n",
              "        text-align: right;\n",
              "    }\n",
              "</style>\n",
              "<table border=\"1\" class=\"dataframe\">\n",
              "  <thead>\n",
              "    <tr style=\"text-align: right;\">\n",
              "      <th></th>\n",
              "      <th>country</th>\n",
              "      <th>last_update</th>\n",
              "      <th>cases</th>\n",
              "      <th>deaths</th>\n",
              "      <th>recovered</th>\n",
              "      <th>name</th>\n",
              "      <th>fatality_ratio</th>\n",
              "    </tr>\n",
              "  </thead>\n",
              "  <tbody>\n",
              "    <tr>\n",
              "      <th>0</th>\n",
              "      <td>US</td>\n",
              "      <td>2021-01-04</td>\n",
              "      <td>20782635</td>\n",
              "      <td>353069</td>\n",
              "      <td>0</td>\n",
              "      <td>United States of America</td>\n",
              "      <td>0.016989</td>\n",
              "    </tr>\n",
              "    <tr>\n",
              "      <th>1</th>\n",
              "      <td>IN</td>\n",
              "      <td>2021-01-04</td>\n",
              "      <td>10340469</td>\n",
              "      <td>149649</td>\n",
              "      <td>9946867</td>\n",
              "      <td>India</td>\n",
              "      <td>0.014472</td>\n",
              "    </tr>\n",
              "    <tr>\n",
              "      <th>2</th>\n",
              "      <td>BR</td>\n",
              "      <td>2021-01-04</td>\n",
              "      <td>7753752</td>\n",
              "      <td>196561</td>\n",
              "      <td>6950045</td>\n",
              "      <td>Brazil</td>\n",
              "      <td>0.025350</td>\n",
              "    </tr>\n",
              "    <tr>\n",
              "      <th>3</th>\n",
              "      <td>RU</td>\n",
              "      <td>2021-01-04</td>\n",
              "      <td>3226758</td>\n",
              "      <td>58203</td>\n",
              "      <td>2612934</td>\n",
              "      <td>Russian Federation</td>\n",
              "      <td>0.018038</td>\n",
              "    </tr>\n",
              "    <tr>\n",
              "      <th>4</th>\n",
              "      <td>GB</td>\n",
              "      <td>2021-01-04</td>\n",
              "      <td>2721590</td>\n",
              "      <td>75544</td>\n",
              "      <td>6145</td>\n",
              "      <td>United Kingdom of Great Britain and Northern I...</td>\n",
              "      <td>0.027757</td>\n",
              "    </tr>\n",
              "  </tbody>\n",
              "</table>\n",
              "</div>"
            ],
            "text/plain": [
              "  country  ... fatality_ratio\n",
              "0      US  ...       0.016989\n",
              "1      IN  ...       0.014472\n",
              "2      BR  ...       0.025350\n",
              "3      RU  ...       0.018038\n",
              "4      GB  ...       0.027757\n",
              "\n",
              "[5 rows x 7 columns]"
            ]
          },
          "metadata": {
            "tags": []
          },
          "execution_count": 16
        }
      ]
    },
    {
      "cell_type": "code",
      "metadata": {
        "id": "p8Rx2T6OXsl8"
      },
      "source": [
        "df_top_20_fatality_rate = df_covid_denormalized.sort_values(by='fatality_ratio', ascending=False).head(20)"
      ],
      "execution_count": 17,
      "outputs": []
    },
    {
      "cell_type": "code",
      "metadata": {
        "id": "FFe3YAEuX2eH"
      },
      "source": [
        "import matplotlib.pyplot as plt"
      ],
      "execution_count": 18,
      "outputs": []
    },
    {
      "cell_type": "code",
      "metadata": {
        "colab": {
          "base_uri": "https://localhost:8080/",
          "height": 584
        },
        "id": "yzViV9n1YRfh",
        "outputId": "13ecc65f-cb55-41d4-f98a-f7a663b4ebba"
      },
      "source": [
        "plt.figure(figsize=(20, 8))\r\n",
        "x = df_top_20_fatality_rate['name']\r\n",
        "y = df_top_20_fatality_rate['fatality_ratio']\r\n",
        "plt.bar(x,y)\r\n",
        "plt.xlabel('Country Name')\r\n",
        "plt.ylabel('Fatality Rate')\r\n",
        "plt.title('Top 20 Highest Fatality Rate Countries')\r\n",
        "plt.xticks(rotation=90)\r\n",
        "plt.tight_layout()\r\n",
        "plt.show()"
      ],
      "execution_count": 30,
      "outputs": [
        {
          "output_type": "display_data",
          "data": {
            "image/png": "[encoded data removed]",
            "text/plain": [
              "<Figure size 1440x576 with 1 Axes>"
            ]
          },
          "metadata": {
            "tags": [],
            "needs_background": "light"
          }
        }
      ]
    },
    {
      "cell_type": "code",
      "metadata": {
        "colab": {
          "base_uri": "https://localhost:8080/",
          "height": 231
        },
        "id": "CeDGYDwWYhtK",
        "outputId": "038df634-13c5-4068-8615-ad990a28c005"
      },
      "source": [
        "countries = ['ID','MY','SG','TH','VN']\r\n",
        "i = 0\r\n",
        "for country in countries:\r\n",
        "\tcovid_timeline_url = 'https://covid19-api.org/api/timeline/'+country\r\n",
        "\tdf_covid_timeline = pd.io.json.json_normalize(get_json(covid_timeline_url))\r\n",
        "\tdf_covid_timeline['last_update'] = pd.to_datetime(df_covid_timeline['last_update'], format='%Y-%m-%d %H:%M:%S')\r\n",
        "\tdf_covid_timeline['last_update'] = df_covid_timeline['last_update'].apply(lambda x: x.date())\r\n",
        "\tif i==0:\r\n",
        "\t\tdf_covid_timeline_merged = df_covid_timeline\r\n",
        "\telse:\r\n",
        "\t\tdf_covid_timeline_merged = df_covid_timeline.append(df_covid_timeline_merged, ignore_index=True)\r\n",
        "\ti=i+1\r\n",
        "    \r\n",
        "df_covid_timeline_merged.head()"
      ],
      "execution_count": 32,
      "outputs": [
        {
          "output_type": "stream",
          "text": [
            "/usr/local/lib/python3.6/dist-packages/ipykernel_launcher.py:5: FutureWarning: pandas.io.json.json_normalize is deprecated, use pandas.json_normalize instead\n",
            "  \"\"\"\n"
          ],
          "name": "stderr"
        },
        {
          "output_type": "execute_result",
          "data": {
            "text/html": [
              "<div>\n",
              "<style scoped>\n",
              "    .dataframe tbody tr th:only-of-type {\n",
              "        vertical-align: middle;\n",
              "    }\n",
              "\n",
              "    .dataframe tbody tr th {\n",
              "        vertical-align: top;\n",
              "    }\n",
              "\n",
              "    .dataframe thead th {\n",
              "        text-align: right;\n",
              "    }\n",
              "</style>\n",
              "<table border=\"1\" class=\"dataframe\">\n",
              "  <thead>\n",
              "    <tr style=\"text-align: right;\">\n",
              "      <th></th>\n",
              "      <th>country</th>\n",
              "      <th>last_update</th>\n",
              "      <th>cases</th>\n",
              "      <th>deaths</th>\n",
              "      <th>recovered</th>\n",
              "    </tr>\n",
              "  </thead>\n",
              "  <tbody>\n",
              "    <tr>\n",
              "      <th>0</th>\n",
              "      <td>VN</td>\n",
              "      <td>2021-01-05</td>\n",
              "      <td>1497</td>\n",
              "      <td>35</td>\n",
              "      <td>1339</td>\n",
              "    </tr>\n",
              "    <tr>\n",
              "      <th>1</th>\n",
              "      <td>VN</td>\n",
              "      <td>2021-01-04</td>\n",
              "      <td>1497</td>\n",
              "      <td>35</td>\n",
              "      <td>1339</td>\n",
              "    </tr>\n",
              "    <tr>\n",
              "      <th>2</th>\n",
              "      <td>VN</td>\n",
              "      <td>2021-01-03</td>\n",
              "      <td>1494</td>\n",
              "      <td>35</td>\n",
              "      <td>1339</td>\n",
              "    </tr>\n",
              "    <tr>\n",
              "      <th>3</th>\n",
              "      <td>VN</td>\n",
              "      <td>2021-01-02</td>\n",
              "      <td>1482</td>\n",
              "      <td>35</td>\n",
              "      <td>1337</td>\n",
              "    </tr>\n",
              "    <tr>\n",
              "      <th>4</th>\n",
              "      <td>VN</td>\n",
              "      <td>2021-01-01</td>\n",
              "      <td>1474</td>\n",
              "      <td>35</td>\n",
              "      <td>1325</td>\n",
              "    </tr>\n",
              "  </tbody>\n",
              "</table>\n",
              "</div>"
            ],
            "text/plain": [
              "  country last_update  cases  deaths  recovered\n",
              "0      VN  2021-01-05   1497      35       1339\n",
              "1      VN  2021-01-04   1497      35       1339\n",
              "2      VN  2021-01-03   1494      35       1339\n",
              "3      VN  2021-01-02   1482      35       1337\n",
              "4      VN  2021-01-01   1474      35       1325"
            ]
          },
          "metadata": {
            "tags": []
          },
          "execution_count": 32
        }
      ]
    },
    {
      "cell_type": "code",
      "metadata": {
        "id": "KlHh2KUYaIGi"
      },
      "source": [
        "df_covid_timeline_denormalized = pd.merge(df_covid_timeline_merged, df_countries, on='country')"
      ],
      "execution_count": 33,
      "outputs": []
    },
    {
      "cell_type": "code",
      "metadata": {
        "id": "taWz8fzUawXo"
      },
      "source": [
        "import datetime\r\n",
        "df_covid_timeline_denormalized = df_covid_timeline_denormalized[(df_covid_timeline_denormalized['last_update'] >= datetime.date(2020, 3, 1))]"
      ],
      "execution_count": 35,
      "outputs": []
    },
    {
      "cell_type": "code",
      "metadata": {
        "colab": {
          "base_uri": "https://localhost:8080/",
          "height": 637
        },
        "id": "99WW5_6-bM71",
        "outputId": "b61d645f-0304-40ef-f0d5-811756870e60"
      },
      "source": [
        "import matplotlib.pyplot as plt\r\n",
        "plt.clf()\r\n",
        "plt.figure(figsize=(10,10))\r\n",
        "countries = ['ID','MY','SG','TH','VN']\r\n",
        "for country in countries:\r\n",
        "\tcountry_data = df_covid_timeline_denormalized['country']==country\r\n",
        "\tx = df_covid_timeline_denormalized[country_data]['last_update']\r\n",
        "\ty = df_covid_timeline_denormalized[country_data]['cases']\r\n",
        "\tplt.plot(x, y, label = country)\r\n",
        "\r\n",
        "plt.legend()\r\n",
        "plt.xlabel('Record Date')\r\n",
        "plt.ylabel('Total Cases')\r\n",
        "plt.title('Asean Covid19 Cases Comparison')\r\n",
        "plt.show()"
      ],
      "execution_count": 39,
      "outputs": [
        {
          "output_type": "display_data",
          "data": {
            "text/plain": [
              "<Figure size 432x288 with 0 Axes>"
            ]
          },
          "metadata": {
            "tags": []
          }
        },
        {
          "output_type": "display_data",
          "data": {
            "image/png": "[encoded data removed]",
            "text/plain": [
              "<Figure size 720x720 with 1 Axes>"
            ]
          },
          "metadata": {
            "tags": [],
            "needs_background": "light"
          }
        }
      ]
    },
    {
      "cell_type": "code",
      "metadata": {
        "colab": {
          "base_uri": "https://localhost:8080/",
          "height": 637
        },
        "id": "U8lHEscAblUd",
        "outputId": "097bddde-4239-4fdc-a272-cd740530638e"
      },
      "source": [
        "plt.clf()\r\n",
        "plt.figure(figsize=(10,10))\r\n",
        "countries = ['ID','MY','SG','TH','VN']\r\n",
        "for country in countries:\r\n",
        "\tcountry_data = df_covid_timeline_denormalized['country']==country\r\n",
        "\tx = df_covid_timeline_denormalized[country_data]['last_update']\r\n",
        "\ty = df_covid_timeline_denormalized[country_data]['deaths']\r\n",
        "\tplt.plot(x, y, label = country)\r\n",
        "\r\n",
        "plt.legend()\r\n",
        "plt.xlabel('Record Date')\r\n",
        "plt.ylabel('Total Deaths')\r\n",
        "plt.title('Asean Covid19 Deaths Comparison')\r\n",
        "plt.show()"
      ],
      "execution_count": 40,
      "outputs": [
        {
          "output_type": "display_data",
          "data": {
            "text/plain": [
              "<Figure size 432x288 with 0 Axes>"
            ]
          },
          "metadata": {
            "tags": []
          }
        },
        {
          "output_type": "display_data",
          "data": {
            "image/png": "[encoded data removed]",
            "text/plain": [
              "<Figure size 720x720 with 1 Axes>"
            ]
          },
          "metadata": {
            "tags": [],
            "needs_background": "light"
          }
        }
      ]
    },
    {
      "cell_type": "code",
      "metadata": {
        "colab": {
          "base_uri": "https://localhost:8080/",
          "height": 637
        },
        "id": "Nnh4N3Sucb8M",
        "outputId": "a208ef88-f5e9-43fe-e2fb-051adeb79e12"
      },
      "source": [
        "plt.clf()\r\n",
        "plt.figure(figsize=(10,10))\r\n",
        "countries = ['ID','MY','SG','TH','VN']\r\n",
        "for country in countries:\r\n",
        "\tcountry_data = df_covid_timeline_denormalized['country']==country\r\n",
        "\tx = df_covid_timeline_denormalized[country_data]['last_update']\r\n",
        "\ty = df_covid_timeline_denormalized[country_data]['recovered']\r\n",
        "\tplt.plot(x, y, label = country)\r\n",
        "\r\n",
        "plt.legend()\r\n",
        "plt.xlabel('Record Date')\r\n",
        "plt.ylabel('Total Recovered')\r\n",
        "plt.title('Asean Covid19 Recovered Comparison')\r\n",
        "plt.show()"
      ],
      "execution_count": 41,
      "outputs": [
        {
          "output_type": "display_data",
          "data": {
            "text/plain": [
              "<Figure size 432x288 with 0 Axes>"
            ]
          },
          "metadata": {
            "tags": []
          }
        },
        {
          "output_type": "display_data",
          "data": {
            "image/png": "[encoded data removed]",
            "text/plain": [
              "<Figure size 720x720 with 1 Axes>"
            ]
          },
          "metadata": {
            "tags": [],
            "needs_background": "light"
          }
        }
      ]
    }
  ]
}