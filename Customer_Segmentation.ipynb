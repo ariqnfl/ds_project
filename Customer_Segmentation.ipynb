{
  "nbformat": 4,
  "nbformat_minor": 0,
  "metadata": {
    "colab": {
      "name": "Customer Segmentation.ipynb",
      "provenance": [],
      "authorship_tag": "ABX9TyPEOmN21bPBSTi+d922qwLc",
      "include_colab_link": true
    },
    "kernelspec": {
      "name": "python3",
      "display_name": "Python 3"
    }
  },
  "cells": [
    {
      "cell_type": "markdown",
      "metadata": {
        "id": "view-in-github",
        "colab_type": "text"
      },
      "source": [
        "<a href=\"https://colab.research.google.com/github/ariqnfl/ds_project/blob/main/Customer_Segmentation.ipynb\" target=\"_parent\"><img src=\"https://colab.research.google.com/assets/colab-badge.svg\" alt=\"Open In Colab\"/></a>"
      ]
    },
    {
      "cell_type": "code",
      "metadata": {
        "colab": {
          "base_uri": "https://localhost:8080/"
        },
        "id": "8vS8k1aJCtJH",
        "outputId": "9546b251-26b0-498e-a56c-1e1912d630c6"
      },
      "source": [
        "!pip install kmodes"
      ],
      "execution_count": 2,
      "outputs": [
        {
          "output_type": "stream",
          "text": [
            "Collecting kmodes\n",
            "  Downloading https://files.pythonhosted.org/packages/b2/55/d8ec1ae1f7e1e202a8a4184c6852a3ee993b202b0459672c699d0ac18fc8/kmodes-0.10.2-py2.py3-none-any.whl\n",
            "Requirement already satisfied: joblib>=0.11 in /usr/local/lib/python3.6/dist-packages (from kmodes) (1.0.0)\n",
            "Requirement already satisfied: numpy>=1.10.4 in /usr/local/lib/python3.6/dist-packages (from kmodes) (1.19.5)\n",
            "Requirement already satisfied: scikit-learn>=0.19.0 in /usr/local/lib/python3.6/dist-packages (from kmodes) (0.22.2.post1)\n",
            "Requirement already satisfied: scipy>=0.13.3 in /usr/local/lib/python3.6/dist-packages (from kmodes) (1.4.1)\n",
            "Installing collected packages: kmodes\n",
            "Successfully installed kmodes-0.10.2\n"
          ],
          "name": "stdout"
        }
      ]
    },
    {
      "cell_type": "code",
      "metadata": {
        "id": "hEiaqA9QCP2C"
      },
      "source": [
        "import pandas as pd  \r\n",
        "import matplotlib.pyplot as plt  \r\n",
        "import seaborn as sns  \r\n",
        "from sklearn.preprocessing import LabelEncoder  \r\n",
        "  \r\n",
        "from kmodes.kmodes import KModes  \r\n",
        "from kmodes.kprototypes import KPrototypes  \r\n",
        "  \r\n",
        "import pickle  \r\n",
        "from pathlib import Path  "
      ],
      "execution_count": 3,
      "outputs": []
    },
    {
      "cell_type": "code",
      "metadata": {
        "colab": {
          "base_uri": "https://localhost:8080/",
          "height": 197
        },
        "id": "bhw0mQNDCjFT",
        "outputId": "bac68564-0705-4ece-ea2a-32a260084616"
      },
      "source": [
        "# import dataset  \r\n",
        "df = pd.read_csv(\"https://dqlab-dataset.s3-ap-southeast-1.amazonaws.com/customer_segments.txt\", sep=\"\\t\")  \r\n",
        "  \r\n",
        "# menampilkan data  \r\n",
        "df.head()"
      ],
      "execution_count": 4,
      "outputs": [
        {
          "output_type": "execute_result",
          "data": {
            "text/html": [
              "<div>\n",
              "<style scoped>\n",
              "    .dataframe tbody tr th:only-of-type {\n",
              "        vertical-align: middle;\n",
              "    }\n",
              "\n",
              "    .dataframe tbody tr th {\n",
              "        vertical-align: top;\n",
              "    }\n",
              "\n",
              "    .dataframe thead th {\n",
              "        text-align: right;\n",
              "    }\n",
              "</style>\n",
              "<table border=\"1\" class=\"dataframe\">\n",
              "  <thead>\n",
              "    <tr style=\"text-align: right;\">\n",
              "      <th></th>\n",
              "      <th>Customer_ID</th>\n",
              "      <th>Nama Pelanggan</th>\n",
              "      <th>Jenis Kelamin</th>\n",
              "      <th>Umur</th>\n",
              "      <th>Profesi</th>\n",
              "      <th>Tipe Residen</th>\n",
              "      <th>NilaiBelanjaSetahun</th>\n",
              "    </tr>\n",
              "  </thead>\n",
              "  <tbody>\n",
              "    <tr>\n",
              "      <th>0</th>\n",
              "      <td>CUST-001</td>\n",
              "      <td>Budi Anggara</td>\n",
              "      <td>Pria</td>\n",
              "      <td>58</td>\n",
              "      <td>Wiraswasta</td>\n",
              "      <td>Sector</td>\n",
              "      <td>9497927</td>\n",
              "    </tr>\n",
              "    <tr>\n",
              "      <th>1</th>\n",
              "      <td>CUST-002</td>\n",
              "      <td>Shirley Ratuwati</td>\n",
              "      <td>Wanita</td>\n",
              "      <td>14</td>\n",
              "      <td>Pelajar</td>\n",
              "      <td>Cluster</td>\n",
              "      <td>2722700</td>\n",
              "    </tr>\n",
              "    <tr>\n",
              "      <th>2</th>\n",
              "      <td>CUST-003</td>\n",
              "      <td>Agus Cahyono</td>\n",
              "      <td>Pria</td>\n",
              "      <td>48</td>\n",
              "      <td>Professional</td>\n",
              "      <td>Cluster</td>\n",
              "      <td>5286429</td>\n",
              "    </tr>\n",
              "    <tr>\n",
              "      <th>3</th>\n",
              "      <td>CUST-004</td>\n",
              "      <td>Antonius Winarta</td>\n",
              "      <td>Pria</td>\n",
              "      <td>53</td>\n",
              "      <td>Professional</td>\n",
              "      <td>Cluster</td>\n",
              "      <td>5204498</td>\n",
              "    </tr>\n",
              "    <tr>\n",
              "      <th>4</th>\n",
              "      <td>CUST-005</td>\n",
              "      <td>Ibu Sri Wahyuni, IR</td>\n",
              "      <td>Wanita</td>\n",
              "      <td>41</td>\n",
              "      <td>Wiraswasta</td>\n",
              "      <td>Cluster</td>\n",
              "      <td>10615206</td>\n",
              "    </tr>\n",
              "  </tbody>\n",
              "</table>\n",
              "</div>"
            ],
            "text/plain": [
              "  Customer_ID       Nama Pelanggan  ... Tipe Residen  NilaiBelanjaSetahun\n",
              "0    CUST-001         Budi Anggara  ...       Sector              9497927\n",
              "1    CUST-002     Shirley Ratuwati  ...      Cluster              2722700\n",
              "2    CUST-003         Agus Cahyono  ...      Cluster              5286429\n",
              "3    CUST-004     Antonius Winarta  ...      Cluster              5204498\n",
              "4    CUST-005  Ibu Sri Wahyuni, IR  ...      Cluster             10615206\n",
              "\n",
              "[5 rows x 7 columns]"
            ]
          },
          "metadata": {
            "tags": []
          },
          "execution_count": 4
        }
      ]
    },
    {
      "cell_type": "code",
      "metadata": {
        "colab": {
          "base_uri": "https://localhost:8080/"
        },
        "id": "OzWmg8JIEIag",
        "outputId": "f318ec69-c6b4-4669-debc-8ef9bbc37923"
      },
      "source": [
        "# Menampilkan informasi data  \r\n",
        "df.info()"
      ],
      "execution_count": 7,
      "outputs": [
        {
          "output_type": "stream",
          "text": [
            "<class 'pandas.core.frame.DataFrame'>\n",
            "RangeIndex: 50 entries, 0 to 49\n",
            "Data columns (total 7 columns):\n",
            " #   Column               Non-Null Count  Dtype \n",
            "---  ------               --------------  ----- \n",
            " 0   Customer_ID          50 non-null     object\n",
            " 1   Nama Pelanggan       50 non-null     object\n",
            " 2   Jenis Kelamin        50 non-null     object\n",
            " 3   Umur                 50 non-null     int64 \n",
            " 4   Profesi              50 non-null     object\n",
            " 5   Tipe Residen         50 non-null     object\n",
            " 6   NilaiBelanjaSetahun  50 non-null     int64 \n",
            "dtypes: int64(2), object(5)\n",
            "memory usage: 2.9+ KB\n"
          ],
          "name": "stdout"
        }
      ]
    },
    {
      "cell_type": "code",
      "metadata": {
        "colab": {
          "base_uri": "https://localhost:8080/",
          "height": 1000
        },
        "id": "tdfvQP43EgR3",
        "outputId": "80099334-23b9-43fd-8d86-fcd2189b9664"
      },
      "source": [
        "sns.set_style('white')\r\n",
        "plt.clf()\r\n",
        "\r\n",
        "# Fungsi untuk membuat plot  \r\n",
        "def observasi_num(features):  \r\n",
        "    fig, axs = plt.subplots(2, 2, figsize=(10, 9))\r\n",
        "    for i, kol in enumerate(features):\r\n",
        "\t    sns.boxplot(df[kol], ax = axs[i][0])\r\n",
        "\t    sns.distplot(df[kol], ax = axs[i][1])   \r\n",
        "\t    axs[i][0].set_title('mean = %.2f\\n median = %.2f\\n std = %.2f'%(df[kol].mean(), df[kol].median(), df[kol].std()))\r\n",
        "    plt.setp(axs)\r\n",
        "    plt.tight_layout()\r\n",
        "    plt.show()  \r\n",
        "  \r\n",
        "# Memanggil fungsi untuk membuat Plot untuk data numerik   \r\n",
        "kolom_numerik = ['Umur','NilaiBelanjaSetahun']\r\n",
        "observasi_num(kolom_numerik) "
      ],
      "execution_count": 14,
      "outputs": [
        {
          "output_type": "stream",
          "text": [
            "/usr/local/lib/python3.6/dist-packages/seaborn/_decorators.py:43: FutureWarning: Pass the following variable as a keyword arg: x. From version 0.12, the only valid positional argument will be `data`, and passing other arguments without an explicit keyword will result in an error or misinterpretation.\n",
            "  FutureWarning\n",
            "/usr/local/lib/python3.6/dist-packages/seaborn/distributions.py:2557: FutureWarning: `distplot` is a deprecated function and will be removed in a future version. Please adapt your code to use either `displot` (a figure-level function with similar flexibility) or `histplot` (an axes-level function for histograms).\n",
            "  warnings.warn(msg, FutureWarning)\n",
            "/usr/local/lib/python3.6/dist-packages/seaborn/_decorators.py:43: FutureWarning: Pass the following variable as a keyword arg: x. From version 0.12, the only valid positional argument will be `data`, and passing other arguments without an explicit keyword will result in an error or misinterpretation.\n",
            "  FutureWarning\n",
            "/usr/local/lib/python3.6/dist-packages/seaborn/distributions.py:2557: FutureWarning: `distplot` is a deprecated function and will be removed in a future version. Please adapt your code to use either `displot` (a figure-level function with similar flexibility) or `histplot` (an axes-level function for histograms).\n",
            "  warnings.warn(msg, FutureWarning)\n"
          ],
          "name": "stderr"
        },
        {
          "output_type": "stream",
          "text": [
            "  adjustable: {'box', 'datalim'}\n",
            "  agg_filter: a filter function, which takes a (m, n, 3) float array and a dpi value, and returns a (m, n, 3) array\n",
            "  alpha: float or None\n",
            "  anchor: 2-tuple of floats or {'C', 'SW', 'S', 'SE', ...}\n",
            "  animated: bool\n",
            "  aspect: {'auto', 'equal'} or num\n",
            "  autoscale_on: bool\n",
            "  autoscalex_on: bool\n",
            "  autoscaley_on: bool\n",
            "  axes_locator: Callable[[Axes, Renderer], Bbox]\n",
            "  axisbelow: bool or 'line'\n",
            "  clip_box: `.Bbox`\n",
            "  clip_on: bool\n",
            "  clip_path: Patch or (Path, Transform) or None\n",
            "  contains: callable\n",
            "  facecolor: color\n",
            "  fc: color\n",
            "  figure: `.Figure`\n",
            "  frame_on: bool\n",
            "  gid: str\n",
            "  in_layout: bool\n",
            "  label: object\n",
            "  navigate: bool\n",
            "  navigate_mode: unknown\n",
            "  path_effects: `.AbstractPathEffect`\n",
            "  picker: None or bool or float or callable\n",
            "  position: [left, bottom, width, height] or `~matplotlib.transforms.Bbox`\n",
            "  prop_cycle: unknown\n",
            "  rasterization_zorder: float or None\n",
            "  rasterized: bool or None\n",
            "  sketch_params: (scale: float, length: float, randomness: float)\n",
            "  snap: bool or None\n",
            "  subplotspec: unknown\n",
            "  title: str\n",
            "  transform: `.Transform`\n",
            "  url: str\n",
            "  visible: bool\n",
            "  xbound: unknown\n",
            "  xlabel: str\n",
            "  xlim: (bottom: float, top: float)\n",
            "  xmargin: float greater than -0.5\n",
            "  xscale: {\"linear\", \"log\", \"symlog\", \"logit\", ...}\n",
            "  xticklabels: List[str]\n",
            "  xticks: unknown\n",
            "  ybound: unknown\n",
            "  ylabel: str\n",
            "  ylim: (bottom: float, top: float)\n",
            "  ymargin: float greater than -0.5\n",
            "  yscale: {\"linear\", \"log\", \"symlog\", \"logit\", ...}\n",
            "  yticklabels: List[str]\n",
            "  yticks: unknown\n",
            "  zorder: float\n"
          ],
          "name": "stdout"
        },
        {
          "output_type": "display_data",
          "data": {
            "text/plain": [
              "<Figure size 432x288 with 0 Axes>"
            ]
          },
          "metadata": {
            "tags": []
          }
        },
        {
          "output_type": "display_data",
          "data": {
            "image/png": "[encoded data removed]",
            "text/plain": [
              "<Figure size 720x648 with 4 Axes>"
            ]
          },
          "metadata": {
            "tags": []
          }
        }
      ]
    },
    {
      "cell_type": "code",
      "metadata": {
        "colab": {
          "base_uri": "https://localhost:8080/",
          "height": 1000
        },
        "id": "J6nGtfxoHNI_",
        "outputId": "3f211d2a-3886-45f2-a7e8-ba93eb03ce65"
      },
      "source": [
        "# Menyiapkan kolom kategorikal  \r\n",
        "kolom_kategorikal = ['Jenis Kelamin','Profesi','Tipe Residen']  \r\n",
        "\r\n",
        "# Membuat canvas\r\n",
        "fig, axs = plt.subplots(3,1,figsize=(7,10)) \r\n",
        "\r\n",
        "# Membuat plot untuk setiap kolom kategorikal  \r\n",
        "for i, kol in enumerate(kolom_kategorikal):  \r\n",
        "    # Membuat Plot\r\n",
        "    sns.countplot(df[kol], order = df[kol].value_counts().index, ax = axs[i])  \r\n",
        "    axs[i].set_title('\\nCount Plot %s\\n'%(kol), fontsize=15)  \r\n",
        "      \r\n",
        "    # Memberikan anotasi  \r\n",
        "    for p in axs[i].patches:  \r\n",
        "        axs[i].annotate(format(p.get_height(), '.0f'),  \r\n",
        "                        (p.get_x() + p.get_width() / 2., p.get_height()),  \r\n",
        "                        ha = 'center',  \r\n",
        "                        va = 'center',  \r\n",
        "                        xytext = (0, 10),  \r\n",
        "                        textcoords = 'offset points') \r\n",
        "          \r\n",
        "    # Setting Plot  \r\n",
        "    sns.despine(right=True,top = True, left = True)  \r\n",
        "    axs[i].axes.yaxis.set_visible(False) \r\n",
        "    plt.setp(axs)\r\n",
        "    plt.tight_layout()\r\n",
        "\r\n",
        "# Tampilkan plot\r\n",
        "plt.show()"
      ],
      "execution_count": 20,
      "outputs": [
        {
          "output_type": "stream",
          "text": [
            "/usr/local/lib/python3.6/dist-packages/seaborn/_decorators.py:43: FutureWarning: Pass the following variable as a keyword arg: x. From version 0.12, the only valid positional argument will be `data`, and passing other arguments without an explicit keyword will result in an error or misinterpretation.\n",
            "  FutureWarning\n"
          ],
          "name": "stderr"
        },
        {
          "output_type": "stream",
          "text": [
            "  adjustable: {'box', 'datalim'}\n",
            "  agg_filter: a filter function, which takes a (m, n, 3) float array and a dpi value, and returns a (m, n, 3) array\n",
            "  alpha: float or None\n",
            "  anchor: 2-tuple of floats or {'C', 'SW', 'S', 'SE', ...}\n",
            "  animated: bool\n",
            "  aspect: {'auto', 'equal'} or num\n",
            "  autoscale_on: bool\n",
            "  autoscalex_on: bool\n",
            "  autoscaley_on: bool\n",
            "  axes_locator: Callable[[Axes, Renderer], Bbox]\n",
            "  axisbelow: bool or 'line'\n",
            "  clip_box: `.Bbox`\n",
            "  clip_on: bool\n",
            "  clip_path: Patch or (Path, Transform) or None\n",
            "  contains: callable\n",
            "  facecolor: color\n",
            "  fc: color\n",
            "  figure: `.Figure`\n",
            "  frame_on: bool\n",
            "  gid: str\n",
            "  in_layout: bool\n",
            "  label: object\n",
            "  navigate: bool\n",
            "  navigate_mode: unknown\n",
            "  path_effects: `.AbstractPathEffect`\n",
            "  picker: None or bool or float or callable\n",
            "  position: [left, bottom, width, height] or `~matplotlib.transforms.Bbox`\n",
            "  prop_cycle: unknown\n",
            "  rasterization_zorder: float or None\n",
            "  rasterized: bool or None\n",
            "  sketch_params: (scale: float, length: float, randomness: float)\n",
            "  snap: bool or None\n",
            "  subplotspec: unknown\n",
            "  title: str\n",
            "  transform: `.Transform`\n",
            "  url: str\n",
            "  visible: bool\n",
            "  xbound: unknown\n",
            "  xlabel: str\n",
            "  xlim: (bottom: float, top: float)\n",
            "  xmargin: float greater than -0.5\n",
            "  xscale: {\"linear\", \"log\", \"symlog\", \"logit\", ...}\n",
            "  xticklabels: List[str]\n",
            "  xticks: unknown\n",
            "  ybound: unknown\n",
            "  ylabel: str\n",
            "  ylim: (bottom: float, top: float)\n",
            "  ymargin: float greater than -0.5\n",
            "  yscale: {\"linear\", \"log\", \"symlog\", \"logit\", ...}\n",
            "  yticklabels: List[str]\n",
            "  yticks: unknown\n",
            "  zorder: float\n"
          ],
          "name": "stdout"
        },
        {
          "output_type": "stream",
          "text": [
            "/usr/local/lib/python3.6/dist-packages/seaborn/_decorators.py:43: FutureWarning: Pass the following variable as a keyword arg: x. From version 0.12, the only valid positional argument will be `data`, and passing other arguments without an explicit keyword will result in an error or misinterpretation.\n",
            "  FutureWarning\n",
            "/usr/local/lib/python3.6/dist-packages/seaborn/_decorators.py:43: FutureWarning: Pass the following variable as a keyword arg: x. From version 0.12, the only valid positional argument will be `data`, and passing other arguments without an explicit keyword will result in an error or misinterpretation.\n",
            "  FutureWarning\n"
          ],
          "name": "stderr"
        },
        {
          "output_type": "stream",
          "text": [
            "  adjustable: {'box', 'datalim'}\n",
            "  agg_filter: a filter function, which takes a (m, n, 3) float array and a dpi value, and returns a (m, n, 3) array\n",
            "  alpha: float or None\n",
            "  anchor: 2-tuple of floats or {'C', 'SW', 'S', 'SE', ...}\n",
            "  animated: bool\n",
            "  aspect: {'auto', 'equal'} or num\n",
            "  autoscale_on: bool\n",
            "  autoscalex_on: bool\n",
            "  autoscaley_on: bool\n",
            "  axes_locator: Callable[[Axes, Renderer], Bbox]\n",
            "  axisbelow: bool or 'line'\n",
            "  clip_box: `.Bbox`\n",
            "  clip_on: bool\n",
            "  clip_path: Patch or (Path, Transform) or None\n",
            "  contains: callable\n",
            "  facecolor: color\n",
            "  fc: color\n",
            "  figure: `.Figure`\n",
            "  frame_on: bool\n",
            "  gid: str\n",
            "  in_layout: bool\n",
            "  label: object\n",
            "  navigate: bool\n",
            "  navigate_mode: unknown\n",
            "  path_effects: `.AbstractPathEffect`\n",
            "  picker: None or bool or float or callable\n",
            "  position: [left, bottom, width, height] or `~matplotlib.transforms.Bbox`\n",
            "  prop_cycle: unknown\n",
            "  rasterization_zorder: float or None\n",
            "  rasterized: bool or None\n",
            "  sketch_params: (scale: float, length: float, randomness: float)\n",
            "  snap: bool or None\n",
            "  subplotspec: unknown\n",
            "  title: str\n",
            "  transform: `.Transform`\n",
            "  url: str\n",
            "  visible: bool\n",
            "  xbound: unknown\n",
            "  xlabel: str\n",
            "  xlim: (bottom: float, top: float)\n",
            "  xmargin: float greater than -0.5\n",
            "  xscale: {\"linear\", \"log\", \"symlog\", \"logit\", ...}\n",
            "  xticklabels: List[str]\n",
            "  xticks: unknown\n",
            "  ybound: unknown\n",
            "  ylabel: str\n",
            "  ylim: (bottom: float, top: float)\n",
            "  ymargin: float greater than -0.5\n",
            "  yscale: {\"linear\", \"log\", \"symlog\", \"logit\", ...}\n",
            "  yticklabels: List[str]\n",
            "  yticks: unknown\n",
            "  zorder: float\n",
            "  adjustable: {'box', 'datalim'}\n",
            "  agg_filter: a filter function, which takes a (m, n, 3) float array and a dpi value, and returns a (m, n, 3) array\n",
            "  alpha: float or None\n",
            "  anchor: 2-tuple of floats or {'C', 'SW', 'S', 'SE', ...}\n",
            "  animated: bool\n",
            "  aspect: {'auto', 'equal'} or num\n",
            "  autoscale_on: bool\n",
            "  autoscalex_on: bool\n",
            "  autoscaley_on: bool\n",
            "  axes_locator: Callable[[Axes, Renderer], Bbox]\n",
            "  axisbelow: bool or 'line'\n",
            "  clip_box: `.Bbox`\n",
            "  clip_on: bool\n",
            "  clip_path: Patch or (Path, Transform) or None\n",
            "  contains: callable\n",
            "  facecolor: color\n",
            "  fc: color\n",
            "  figure: `.Figure`\n",
            "  frame_on: bool\n",
            "  gid: str\n",
            "  in_layout: bool\n",
            "  label: object\n",
            "  navigate: bool\n",
            "  navigate_mode: unknown\n",
            "  path_effects: `.AbstractPathEffect`\n",
            "  picker: None or bool or float or callable\n",
            "  position: [left, bottom, width, height] or `~matplotlib.transforms.Bbox`\n",
            "  prop_cycle: unknown\n",
            "  rasterization_zorder: float or None\n",
            "  rasterized: bool or None\n",
            "  sketch_params: (scale: float, length: float, randomness: float)\n",
            "  snap: bool or None\n",
            "  subplotspec: unknown\n",
            "  title: str\n",
            "  transform: `.Transform`\n",
            "  url: str\n",
            "  visible: bool\n",
            "  xbound: unknown\n",
            "  xlabel: str\n",
            "  xlim: (bottom: float, top: float)\n",
            "  xmargin: float greater than -0.5\n",
            "  xscale: {\"linear\", \"log\", \"symlog\", \"logit\", ...}\n",
            "  xticklabels: List[str]\n",
            "  xticks: unknown\n",
            "  ybound: unknown\n",
            "  ylabel: str\n",
            "  ylim: (bottom: float, top: float)\n",
            "  ymargin: float greater than -0.5\n",
            "  yscale: {\"linear\", \"log\", \"symlog\", \"logit\", ...}\n",
            "  yticklabels: List[str]\n",
            "  yticks: unknown\n",
            "  zorder: float\n"
          ],
          "name": "stdout"
        },
        {
          "output_type": "display_data",
          "data": {
            "image/png": "[encoded data removed]",
            "text/plain": [
              "<Figure size 504x720 with 3 Axes>"
            ]
          },
          "metadata": {
            "tags": []
          }
        }
      ]
    },
    {
      "cell_type": "code",
      "metadata": {
        "colab": {
          "base_uri": "https://localhost:8080/"
        },
        "id": "KVbb6x8aJ4MT",
        "outputId": "d4274ff0-0c67-46e3-97bb-541fdbe92a70"
      },
      "source": [
        "from sklearn.preprocessing import StandardScaler\r\n",
        "\r\n",
        "kolom_numerik = ['Umur','NilaiBelanjaSetahun']\r\n",
        "\r\n",
        "# Statistik sebelum Standardisasi\r\n",
        "print('Statistik sebelum Standardisasi\\n')\r\n",
        "print(df[kolom_numerik].describe().round(1))\r\n",
        "\r\n",
        "# Standardisasi\r\n",
        "df_std = StandardScaler().fit_transform(df[kolom_numerik])\r\n",
        "\r\n",
        "# Membuat DataFrame\r\n",
        "df_std = pd.DataFrame(data = df_std, index= df.index, columns=df[kolom_numerik].columns)\r\n",
        "\r\n",
        "print('Contoh hasil standardisasi\\n')  \r\n",
        "print(df_std.head())  \r\n",
        "  \r\n",
        "print('Statistik hasil standardisasi\\n')  \r\n",
        "print(df_std.describe().round(0))  "
      ],
      "execution_count": 25,
      "outputs": [
        {
          "output_type": "stream",
          "text": [
            "Statistik sebelum Standardisasi\n",
            "\n",
            "       Umur  NilaiBelanjaSetahun\n",
            "count  50.0                 50.0\n",
            "mean   37.5            7069874.8\n",
            "std    14.7            2590619.0\n",
            "min    14.0            2722700.0\n",
            "25%    25.0            5257529.8\n",
            "50%    35.0            5980077.0\n",
            "75%    49.8            9739615.0\n",
            "max    64.0           10884508.0\n",
            "Contoh hasil standardisasi\n",
            "\n",
            "       Umur  NilaiBelanjaSetahun\n",
            "0  1.411245             0.946763\n",
            "1 -1.617768            -1.695081\n",
            "2  0.722833            -0.695414\n",
            "3  1.067039            -0.727361\n",
            "4  0.240944             1.382421\n",
            "Statistik hasil standardisasi\n",
            "\n",
            "       Umur  NilaiBelanjaSetahun\n",
            "count  50.0                 50.0\n",
            "mean    0.0                 -0.0\n",
            "std     1.0                  1.0\n",
            "min    -2.0                 -2.0\n",
            "25%    -1.0                 -1.0\n",
            "50%    -0.0                 -0.0\n",
            "75%     1.0                  1.0\n",
            "max     2.0                  1.0\n"
          ],
          "name": "stdout"
        }
      ]
    },
    {
      "cell_type": "code",
      "metadata": {
        "colab": {
          "base_uri": "https://localhost:8080/",
          "height": 197
        },
        "id": "VgyqZkwsL6S1",
        "outputId": "10ce91a3-2d38-4813-ff72-ea437c351132"
      },
      "source": [
        "# Membuat salinan data frame\r\n",
        "df_encode = df[kolom_kategorikal].copy()\r\n",
        "\r\n",
        "# Melakukan Label Encoder untuk semua kolom kategorikal\r\n",
        "for col in kolom_kategorikal:\r\n",
        "  df_encode[col] = LabelEncoder().fit_transform(df_encode[col])\r\n",
        "\r\n",
        "# Menampilkan data\r\n",
        "df_encode.head()"
      ],
      "execution_count": 27,
      "outputs": [
        {
          "output_type": "execute_result",
          "data": {
            "text/html": [
              "<div>\n",
              "<style scoped>\n",
              "    .dataframe tbody tr th:only-of-type {\n",
              "        vertical-align: middle;\n",
              "    }\n",
              "\n",
              "    .dataframe tbody tr th {\n",
              "        vertical-align: top;\n",
              "    }\n",
              "\n",
              "    .dataframe thead th {\n",
              "        text-align: right;\n",
              "    }\n",
              "</style>\n",
              "<table border=\"1\" class=\"dataframe\">\n",
              "  <thead>\n",
              "    <tr style=\"text-align: right;\">\n",
              "      <th></th>\n",
              "      <th>Jenis Kelamin</th>\n",
              "      <th>Profesi</th>\n",
              "      <th>Tipe Residen</th>\n",
              "    </tr>\n",
              "  </thead>\n",
              "  <tbody>\n",
              "    <tr>\n",
              "      <th>0</th>\n",
              "      <td>0</td>\n",
              "      <td>4</td>\n",
              "      <td>1</td>\n",
              "    </tr>\n",
              "    <tr>\n",
              "      <th>1</th>\n",
              "      <td>1</td>\n",
              "      <td>2</td>\n",
              "      <td>0</td>\n",
              "    </tr>\n",
              "    <tr>\n",
              "      <th>2</th>\n",
              "      <td>0</td>\n",
              "      <td>3</td>\n",
              "      <td>0</td>\n",
              "    </tr>\n",
              "    <tr>\n",
              "      <th>3</th>\n",
              "      <td>0</td>\n",
              "      <td>3</td>\n",
              "      <td>0</td>\n",
              "    </tr>\n",
              "    <tr>\n",
              "      <th>4</th>\n",
              "      <td>1</td>\n",
              "      <td>4</td>\n",
              "      <td>0</td>\n",
              "    </tr>\n",
              "  </tbody>\n",
              "</table>\n",
              "</div>"
            ],
            "text/plain": [
              "   Jenis Kelamin  Profesi  Tipe Residen\n",
              "0              0        4             1\n",
              "1              1        2             0\n",
              "2              0        3             0\n",
              "3              0        3             0\n",
              "4              1        4             0"
            ]
          },
          "metadata": {
            "tags": []
          },
          "execution_count": 27
        }
      ]
    },
    {
      "cell_type": "code",
      "metadata": {
        "colab": {
          "base_uri": "https://localhost:8080/",
          "height": 197
        },
        "id": "D18HmraINpxO",
        "outputId": "98c5826f-7d26-4b20-ac8c-d9b64ee0fb36"
      },
      "source": [
        "# merge dataframe\r\n",
        "df_model = df_encode.merge(df_std, left_index=True,right_index=True,how='left')\r\n",
        "df_model.head()"
      ],
      "execution_count": 29,
      "outputs": [
        {
          "output_type": "execute_result",
          "data": {
            "text/html": [
              "<div>\n",
              "<style scoped>\n",
              "    .dataframe tbody tr th:only-of-type {\n",
              "        vertical-align: middle;\n",
              "    }\n",
              "\n",
              "    .dataframe tbody tr th {\n",
              "        vertical-align: top;\n",
              "    }\n",
              "\n",
              "    .dataframe thead th {\n",
              "        text-align: right;\n",
              "    }\n",
              "</style>\n",
              "<table border=\"1\" class=\"dataframe\">\n",
              "  <thead>\n",
              "    <tr style=\"text-align: right;\">\n",
              "      <th></th>\n",
              "      <th>Jenis Kelamin</th>\n",
              "      <th>Profesi</th>\n",
              "      <th>Tipe Residen</th>\n",
              "      <th>Umur</th>\n",
              "      <th>NilaiBelanjaSetahun</th>\n",
              "    </tr>\n",
              "  </thead>\n",
              "  <tbody>\n",
              "    <tr>\n",
              "      <th>0</th>\n",
              "      <td>0</td>\n",
              "      <td>4</td>\n",
              "      <td>1</td>\n",
              "      <td>1.411245</td>\n",
              "      <td>0.946763</td>\n",
              "    </tr>\n",
              "    <tr>\n",
              "      <th>1</th>\n",
              "      <td>1</td>\n",
              "      <td>2</td>\n",
              "      <td>0</td>\n",
              "      <td>-1.617768</td>\n",
              "      <td>-1.695081</td>\n",
              "    </tr>\n",
              "    <tr>\n",
              "      <th>2</th>\n",
              "      <td>0</td>\n",
              "      <td>3</td>\n",
              "      <td>0</td>\n",
              "      <td>0.722833</td>\n",
              "      <td>-0.695414</td>\n",
              "    </tr>\n",
              "    <tr>\n",
              "      <th>3</th>\n",
              "      <td>0</td>\n",
              "      <td>3</td>\n",
              "      <td>0</td>\n",
              "      <td>1.067039</td>\n",
              "      <td>-0.727361</td>\n",
              "    </tr>\n",
              "    <tr>\n",
              "      <th>4</th>\n",
              "      <td>1</td>\n",
              "      <td>4</td>\n",
              "      <td>0</td>\n",
              "      <td>0.240944</td>\n",
              "      <td>1.382421</td>\n",
              "    </tr>\n",
              "  </tbody>\n",
              "</table>\n",
              "</div>"
            ],
            "text/plain": [
              "   Jenis Kelamin  Profesi  Tipe Residen      Umur  NilaiBelanjaSetahun\n",
              "0              0        4             1  1.411245             0.946763\n",
              "1              1        2             0 -1.617768            -1.695081\n",
              "2              0        3             0  0.722833            -0.695414\n",
              "3              0        3             0  1.067039            -0.727361\n",
              "4              1        4             0  0.240944             1.382421"
            ]
          },
          "metadata": {
            "tags": []
          },
          "execution_count": 29
        }
      ]
    },
    {
      "cell_type": "code",
      "metadata": {
        "id": "SRLssM-FObeg"
      },
      "source": [
        "df_model = pd.read_csv('https://dqlab-dataset.s3-ap-southeast-1.amazonaws.com/df-customer-segmentation.csv')"
      ],
      "execution_count": 5,
      "outputs": []
    },
    {
      "cell_type": "code",
      "metadata": {
        "colab": {
          "base_uri": "https://localhost:8080/",
          "height": 264
        },
        "id": "jsCOekGmE3qz",
        "outputId": "7cf92ff0-470a-4fd4-aff1-6c59d3dd06f2"
      },
      "source": [
        "# Melakukan iterasi untuk mendapatkan nilai cost\r\n",
        "cost = {}\r\n",
        "for k in range(2,10):\r\n",
        "  kproto = KPrototypes(n_clusters= k , random_state=75)\r\n",
        "  kproto.fit_predict(df_model, categorical = [0,1,2])\r\n",
        "  cost[k] = kproto.cost_\r\n",
        "\r\n",
        "sns.pointplot(x=list(cost.keys()), y = list(cost.values()))\r\n",
        "plt.show()"
      ],
      "execution_count": 7,
      "outputs": [
        {
          "output_type": "display_data",
          "data": {
            "image/png": "[encoded data removed]",
            "text/plain": [
              "<Figure size 432x288 with 1 Axes>"
            ]
          },
          "metadata": {
            "tags": [],
            "needs_background": "light"
          }
        }
      ]
    },
    {
      "cell_type": "code",
      "metadata": {
        "id": "DDvqRLo8FAZp"
      },
      "source": [
        "kproto = KPrototypes(n_clusters=5, random_state=75)\r\n",
        "kproto = kproto.fit(df_model,categorical=[0,1,2])\r\n",
        "\r\n",
        "# Save Model\r\n",
        "pickle.dump(kproto,open('cluster.pkl','wb'))"
      ],
      "execution_count": 8,
      "outputs": []
    },
    {
      "cell_type": "code",
      "metadata": {
        "colab": {
          "base_uri": "https://localhost:8080/",
          "height": 247
        },
        "id": "8Gk2LvalHCd8",
        "outputId": "e772243c-f8a6-4367-d64f-b57459ea5863"
      },
      "source": [
        "# Menentukan segmen pelanggan\r\n",
        "clusters = kproto.predict(df_model,categorical=[0,1,2])\r\n",
        "print('segmen pelanggan: {}\\n'.format(clusters))\r\n",
        "\r\n",
        "# Menggabungkan data awal dan segmen pelanggan\r\n",
        "df_final = df.copy()\r\n",
        "df_final['cluster'] = clusters\r\n",
        "df_final.head()"
      ],
      "execution_count": 9,
      "outputs": [
        {
          "output_type": "stream",
          "text": [
            "segmen pelanggan: [1 2 4 4 0 3 1 4 3 3 4 4 1 1 0 3 3 4 0 2 0 4 3 0 0 4 0 3 4 4 2 1 2 0 3 0 3\n",
            " 1 3 2 3 0 3 0 3 0 4 1 3 1]\n",
            "\n"
          ],
          "name": "stdout"
        },
        {
          "output_type": "execute_result",
          "data": {
            "text/html": [
              "<div>\n",
              "<style scoped>\n",
              "    .dataframe tbody tr th:only-of-type {\n",
              "        vertical-align: middle;\n",
              "    }\n",
              "\n",
              "    .dataframe tbody tr th {\n",
              "        vertical-align: top;\n",
              "    }\n",
              "\n",
              "    .dataframe thead th {\n",
              "        text-align: right;\n",
              "    }\n",
              "</style>\n",
              "<table border=\"1\" class=\"dataframe\">\n",
              "  <thead>\n",
              "    <tr style=\"text-align: right;\">\n",
              "      <th></th>\n",
              "      <th>Customer_ID</th>\n",
              "      <th>Nama Pelanggan</th>\n",
              "      <th>Jenis Kelamin</th>\n",
              "      <th>Umur</th>\n",
              "      <th>Profesi</th>\n",
              "      <th>Tipe Residen</th>\n",
              "      <th>NilaiBelanjaSetahun</th>\n",
              "      <th>cluster</th>\n",
              "    </tr>\n",
              "  </thead>\n",
              "  <tbody>\n",
              "    <tr>\n",
              "      <th>0</th>\n",
              "      <td>CUST-001</td>\n",
              "      <td>Budi Anggara</td>\n",
              "      <td>Pria</td>\n",
              "      <td>58</td>\n",
              "      <td>Wiraswasta</td>\n",
              "      <td>Sector</td>\n",
              "      <td>9497927</td>\n",
              "      <td>1</td>\n",
              "    </tr>\n",
              "    <tr>\n",
              "      <th>1</th>\n",
              "      <td>CUST-002</td>\n",
              "      <td>Shirley Ratuwati</td>\n",
              "      <td>Wanita</td>\n",
              "      <td>14</td>\n",
              "      <td>Pelajar</td>\n",
              "      <td>Cluster</td>\n",
              "      <td>2722700</td>\n",
              "      <td>2</td>\n",
              "    </tr>\n",
              "    <tr>\n",
              "      <th>2</th>\n",
              "      <td>CUST-003</td>\n",
              "      <td>Agus Cahyono</td>\n",
              "      <td>Pria</td>\n",
              "      <td>48</td>\n",
              "      <td>Professional</td>\n",
              "      <td>Cluster</td>\n",
              "      <td>5286429</td>\n",
              "      <td>4</td>\n",
              "    </tr>\n",
              "    <tr>\n",
              "      <th>3</th>\n",
              "      <td>CUST-004</td>\n",
              "      <td>Antonius Winarta</td>\n",
              "      <td>Pria</td>\n",
              "      <td>53</td>\n",
              "      <td>Professional</td>\n",
              "      <td>Cluster</td>\n",
              "      <td>5204498</td>\n",
              "      <td>4</td>\n",
              "    </tr>\n",
              "    <tr>\n",
              "      <th>4</th>\n",
              "      <td>CUST-005</td>\n",
              "      <td>Ibu Sri Wahyuni, IR</td>\n",
              "      <td>Wanita</td>\n",
              "      <td>41</td>\n",
              "      <td>Wiraswasta</td>\n",
              "      <td>Cluster</td>\n",
              "      <td>10615206</td>\n",
              "      <td>0</td>\n",
              "    </tr>\n",
              "  </tbody>\n",
              "</table>\n",
              "</div>"
            ],
            "text/plain": [
              "  Customer_ID       Nama Pelanggan  ... NilaiBelanjaSetahun  cluster\n",
              "0    CUST-001         Budi Anggara  ...             9497927        1\n",
              "1    CUST-002     Shirley Ratuwati  ...             2722700        2\n",
              "2    CUST-003         Agus Cahyono  ...             5286429        4\n",
              "3    CUST-004     Antonius Winarta  ...             5204498        4\n",
              "4    CUST-005  Ibu Sri Wahyuni, IR  ...            10615206        0\n",
              "\n",
              "[5 rows x 8 columns]"
            ]
          },
          "metadata": {
            "tags": []
          },
          "execution_count": 9
        }
      ]
    },
    {
      "cell_type": "code",
      "metadata": {
        "colab": {
          "base_uri": "https://localhost:8080/"
        },
        "id": "SU_xAG6LIRm7",
        "outputId": "bb7772e9-b2f6-4d33-d6d8-6a48e783de10"
      },
      "source": [
        "# Menampilkan data pelanggan berdasarkan cluster nya\r\n",
        "for i in range(0,5):\r\n",
        "  print('\\nPelanggan cluster {}\\n'.format(i))\r\n",
        "  print(df_final[df_final['cluster'] == i])\r\n"
      ],
      "execution_count": 14,
      "outputs": [
        {
          "output_type": "stream",
          "text": [
            "\n",
            "Pelanggan cluster 0\n",
            "\n",
            "   Customer_ID       Nama Pelanggan  ... NilaiBelanjaSetahun  cluster\n",
            "4     CUST-005  Ibu Sri Wahyuni, IR  ...            10615206        0\n",
            "14    CUST-015     Shirley Ratuwati  ...            10365668        0\n",
            "18    CUST-019         Mega Pranoto  ...            10884508        0\n",
            "20    CUST-021     Lestari Fabianto  ...             9222070        0\n",
            "23    CUST-024        Putri Ginting  ...            10259572        0\n",
            "24    CUST-025       Julia Setiawan  ...            10721998        0\n",
            "26    CUST-027        Grace Mulyati  ...             9114159        0\n",
            "33    CUST-034       Deasy Arisandi  ...             9759822        0\n",
            "35    CUST-036       Ni Made Suasti  ...             9678994        0\n",
            "41    CUST-042         Yuliana Wati  ...             9880607        0\n",
            "43    CUST-044                 Anna  ...             9339737        0\n",
            "45    CUST-046         Elfira Surya  ...            10099807        0\n",
            "\n",
            "[12 rows x 8 columns]\n",
            "\n",
            "Pelanggan cluster 1\n",
            "\n",
            "   Customer_ID    Nama Pelanggan  ... NilaiBelanjaSetahun  cluster\n",
            "0     CUST-001      Budi Anggara  ...             9497927        1\n",
            "6     CUST-007     Cahyono, Agus  ...             9837260        1\n",
            "12    CUST-013      Cahaya Putri  ...             9333168        1\n",
            "13    CUST-014    Mario Setiawan  ...             9471615        1\n",
            "31    CUST-032   Chintya Winarni  ...            10663179        1\n",
            "37    CUST-038      Agatha Salim  ...            10477127        1\n",
            "47    CUST-048  Maria Hutagalung  ...            10390732        1\n",
            "49    CUST-050    Lianna Nugraha  ...            10569316        1\n",
            "\n",
            "[8 rows x 8 columns]\n",
            "\n",
            "Pelanggan cluster 2\n",
            "\n",
            "   Customer_ID    Nama Pelanggan  ... NilaiBelanjaSetahun  cluster\n",
            "1     CUST-002  Shirley Ratuwati  ...             2722700        2\n",
            "19    CUST-020    Irene Novianto  ...             2896845        2\n",
            "30    CUST-031     Eviana Handry  ...             3042773        2\n",
            "32    CUST-033   Cecilia Kusnadi  ...             3047926        2\n",
            "39    CUST-040    Irene Darmawan  ...             2861855        2\n",
            "\n",
            "[5 rows x 8 columns]\n",
            "\n",
            "Pelanggan cluster 3\n",
            "\n",
            "   Customer_ID         Nama Pelanggan  ... NilaiBelanjaSetahun  cluster\n",
            "5     CUST-006        Rosalina Kurnia  ...             5215541        3\n",
            "8     CUST-009  Elisabeth Suryadinata  ...             5993218        3\n",
            "9     CUST-010         Mario Setiawan  ...             5257448        3\n",
            "15    CUST-016           Bambang Rudi  ...             5262521        3\n",
            "16    CUST-017              Yuni Sari  ...             5677762        3\n",
            "22    CUST-023        Denny Amiruddin  ...             5239290        3\n",
            "27    CUST-028          Adeline Huang  ...             6631680        3\n",
            "34    CUST-035                Ida Ayu  ...             5962575        3\n",
            "36    CUST-037       Felicia Tandiono  ...             5972787        3\n",
            "38    CUST-039           Gina Hidayat  ...             5257775        3\n",
            "40    CUST-041       Shinta Aritonang  ...             6820976        3\n",
            "42    CUST-043           Yenna Sumadi  ...             5268410        3\n",
            "44    CUST-045         Rismawati Juni  ...             5211041        3\n",
            "48    CUST-049        Josephine Wahab  ...             4992585        3\n",
            "\n",
            "[14 rows x 8 columns]\n",
            "\n",
            "Pelanggan cluster 4\n",
            "\n",
            "   Customer_ID     Nama Pelanggan  ... NilaiBelanjaSetahun  cluster\n",
            "2     CUST-003       Agus Cahyono  ...             5286429        4\n",
            "3     CUST-004   Antonius Winarta  ...             5204498        4\n",
            "7     CUST-008     Danang Santosa  ...             5223569        4\n",
            "10    CUST-011     Maria Suryawan  ...             5987367        4\n",
            "11    CUST-012    Erliana Widjaja  ...             5941914        4\n",
            "17    CUST-018        Nelly Halim  ...             5340690        4\n",
            "21    CUST-022       Novita Purba  ...             5298157        4\n",
            "25    CUST-026  Christine Winarto  ...             5269392        4\n",
            "28    CUST-029       Tia Hartanti  ...             5271845        4\n",
            "29    CUST-030     Rosita Saragih  ...             5020976        4\n",
            "46    CUST-047        Mira Kurnia  ...             6130724        4\n",
            "\n",
            "[11 rows x 8 columns]\n"
          ],
          "name": "stdout"
        }
      ]
    },
    {
      "cell_type": "code",
      "metadata": {
        "colab": {
          "base_uri": "https://localhost:8080/",
          "height": 633
        },
        "id": "S9T9yMrAJB09",
        "outputId": "3c94a697-cb1a-4590-dd5e-898fe4830718"
      },
      "source": [
        "kolom_numerik = ['Umur','NilaiBelanjaSetahun']\r\n",
        "\r\n",
        "for i in kolom_numerik:\r\n",
        "  plt.figure(figsize=(6,4))\r\n",
        "  ax = sns.boxplot(x = 'cluster', y = i, data = df_final)\r\n",
        "  plt.title('\\nBox Plot {}\\n'.format(i), fontsize=12)\r\n",
        "  plt.show()"
      ],
      "execution_count": 17,
      "outputs": [
        {
          "output_type": "display_data",
          "data": {
            "image/png": "[encoded data removed]",
            "text/plain": [
              "<Figure size 432x288 with 1 Axes>"
            ]
          },
          "metadata": {
            "tags": [],
            "needs_background": "light"
          }
        },
        {
          "output_type": "display_data",
          "data": {
            "image/png": "[encoded data removed]",
            "text/plain": [
              "<Figure size 432x288 with 1 Axes>"
            ]
          },
          "metadata": {
            "tags": [],
            "needs_background": "light"
          }
        }
      ]
    },
    {
      "cell_type": "code",
      "metadata": {
        "colab": {
          "base_uri": "https://localhost:8080/",
          "height": 941
        },
        "id": "uWyka9WzKYLJ",
        "outputId": "d08e8eda-6c31-4d0d-a06b-a6311cd8cb14"
      },
      "source": [
        "kolom_categorical = ['Jenis Kelamin','Profesi','Tipe Residen']  \r\n",
        "  \r\n",
        "for i in kolom_categorical:  \r\n",
        "    plt.figure(figsize=(6,4))  \r\n",
        "    ax = sns.countplot(data = df_final, x = 'cluster', hue = i )  \r\n",
        "    plt.title('\\nCount Plot {}\\n'.format(i), fontsize=12)  \r\n",
        "    ax.legend(loc=\"upper center\")  \r\n",
        "    for p in ax.patches:  \r\n",
        "        ax.annotate(format(p.get_height(), '.0f'),  \r\n",
        "                    (p.get_x() + p.get_width() / 2., p.get_height()),  \r\n",
        "                     ha = 'center',  \r\n",
        "                     va = 'center',  \r\n",
        "                     xytext = (0, 10),  \r\n",
        "                     textcoords = 'offset points')  \r\n",
        "      \r\n",
        "    sns.despine(right=True,top = True, left = True)  \r\n",
        "    ax.axes.yaxis.set_visible(False)  \r\n",
        "    plt.show()  "
      ],
      "execution_count": 25,
      "outputs": [
        {
          "output_type": "display_data",
          "data": {
            "image/png": "[encoded data removed]",
            "text/plain": [
              "<Figure size 432x288 with 1 Axes>"
            ]
          },
          "metadata": {
            "tags": [],
            "needs_background": "light"
          }
        },
        {
          "output_type": "display_data",
          "data": {
            "image/png": "[encoded data removed]",
            "text/plain": [
              "<Figure size 432x288 with 1 Axes>"
            ]
          },
          "metadata": {
            "tags": [],
            "needs_background": "light"
          }
        },
        {
          "output_type": "display_data",
          "data": {
            "image/png": "[encoded data removed]",
            "text/plain": [
              "<Figure size 432x288 with 1 Axes>"
            ]
          },
          "metadata": {
            "tags": [],
            "needs_background": "light"
          }
        }
      ]
    },
    {
      "cell_type": "code",
      "metadata": {
        "colab": {
          "base_uri": "https://localhost:8080/",
          "height": 464
        },
        "id": "0XEd_mSOMBSo",
        "outputId": "8534f75b-2f7b-48cc-9825-d700856562dd"
      },
      "source": [
        "# Mapping nama kolom\r\n",
        "df_final['segmen'] = df_final['cluster'].map({\r\n",
        "    0: 'Diamond Young Member',  \r\n",
        "    1: 'Diamond Senior Member',  \r\n",
        "    2: 'Silver Member',  \r\n",
        "    3: 'Gold Young Member',  \r\n",
        "    4: 'Gold Senior Member'  \r\n",
        "})\r\n",
        "\r\n",
        "df_final.info()\r\n",
        "df_final.head()"
      ],
      "execution_count": 28,
      "outputs": [
        {
          "output_type": "stream",
          "text": [
            "<class 'pandas.core.frame.DataFrame'>\n",
            "RangeIndex: 50 entries, 0 to 49\n",
            "Data columns (total 9 columns):\n",
            " #   Column               Non-Null Count  Dtype \n",
            "---  ------               --------------  ----- \n",
            " 0   Customer_ID          50 non-null     object\n",
            " 1   Nama Pelanggan       50 non-null     object\n",
            " 2   Jenis Kelamin        50 non-null     object\n",
            " 3   Umur                 50 non-null     int64 \n",
            " 4   Profesi              50 non-null     object\n",
            " 5   Tipe Residen         50 non-null     object\n",
            " 6   NilaiBelanjaSetahun  50 non-null     int64 \n",
            " 7   cluster              50 non-null     uint16\n",
            " 8   segmen               50 non-null     object\n",
            "dtypes: int64(2), object(6), uint16(1)\n",
            "memory usage: 3.3+ KB\n"
          ],
          "name": "stdout"
        },
        {
          "output_type": "execute_result",
          "data": {
            "text/html": [
              "<div>\n",
              "<style scoped>\n",
              "    .dataframe tbody tr th:only-of-type {\n",
              "        vertical-align: middle;\n",
              "    }\n",
              "\n",
              "    .dataframe tbody tr th {\n",
              "        vertical-align: top;\n",
              "    }\n",
              "\n",
              "    .dataframe thead th {\n",
              "        text-align: right;\n",
              "    }\n",
              "</style>\n",
              "<table border=\"1\" class=\"dataframe\">\n",
              "  <thead>\n",
              "    <tr style=\"text-align: right;\">\n",
              "      <th></th>\n",
              "      <th>Customer_ID</th>\n",
              "      <th>Nama Pelanggan</th>\n",
              "      <th>Jenis Kelamin</th>\n",
              "      <th>Umur</th>\n",
              "      <th>Profesi</th>\n",
              "      <th>Tipe Residen</th>\n",
              "      <th>NilaiBelanjaSetahun</th>\n",
              "      <th>cluster</th>\n",
              "      <th>segmen</th>\n",
              "    </tr>\n",
              "  </thead>\n",
              "  <tbody>\n",
              "    <tr>\n",
              "      <th>0</th>\n",
              "      <td>CUST-001</td>\n",
              "      <td>Budi Anggara</td>\n",
              "      <td>Pria</td>\n",
              "      <td>58</td>\n",
              "      <td>Wiraswasta</td>\n",
              "      <td>Sector</td>\n",
              "      <td>9497927</td>\n",
              "      <td>1</td>\n",
              "      <td>Diamond Senior Member</td>\n",
              "    </tr>\n",
              "    <tr>\n",
              "      <th>1</th>\n",
              "      <td>CUST-002</td>\n",
              "      <td>Shirley Ratuwati</td>\n",
              "      <td>Wanita</td>\n",
              "      <td>14</td>\n",
              "      <td>Pelajar</td>\n",
              "      <td>Cluster</td>\n",
              "      <td>2722700</td>\n",
              "      <td>2</td>\n",
              "      <td>Silver Member</td>\n",
              "    </tr>\n",
              "    <tr>\n",
              "      <th>2</th>\n",
              "      <td>CUST-003</td>\n",
              "      <td>Agus Cahyono</td>\n",
              "      <td>Pria</td>\n",
              "      <td>48</td>\n",
              "      <td>Professional</td>\n",
              "      <td>Cluster</td>\n",
              "      <td>5286429</td>\n",
              "      <td>4</td>\n",
              "      <td>Gold Senior Member</td>\n",
              "    </tr>\n",
              "    <tr>\n",
              "      <th>3</th>\n",
              "      <td>CUST-004</td>\n",
              "      <td>Antonius Winarta</td>\n",
              "      <td>Pria</td>\n",
              "      <td>53</td>\n",
              "      <td>Professional</td>\n",
              "      <td>Cluster</td>\n",
              "      <td>5204498</td>\n",
              "      <td>4</td>\n",
              "      <td>Gold Senior Member</td>\n",
              "    </tr>\n",
              "    <tr>\n",
              "      <th>4</th>\n",
              "      <td>CUST-005</td>\n",
              "      <td>Ibu Sri Wahyuni, IR</td>\n",
              "      <td>Wanita</td>\n",
              "      <td>41</td>\n",
              "      <td>Wiraswasta</td>\n",
              "      <td>Cluster</td>\n",
              "      <td>10615206</td>\n",
              "      <td>0</td>\n",
              "      <td>Diamond Young Member</td>\n",
              "    </tr>\n",
              "  </tbody>\n",
              "</table>\n",
              "</div>"
            ],
            "text/plain": [
              "  Customer_ID       Nama Pelanggan  ... cluster                 segmen\n",
              "0    CUST-001         Budi Anggara  ...       1  Diamond Senior Member\n",
              "1    CUST-002     Shirley Ratuwati  ...       2          Silver Member\n",
              "2    CUST-003         Agus Cahyono  ...       4     Gold Senior Member\n",
              "3    CUST-004     Antonius Winarta  ...       4     Gold Senior Member\n",
              "4    CUST-005  Ibu Sri Wahyuni, IR  ...       0   Diamond Young Member\n",
              "\n",
              "[5 rows x 9 columns]"
            ]
          },
          "metadata": {
            "tags": []
          },
          "execution_count": 28
        }
      ]
    },
    {
      "cell_type": "code",
      "metadata": {
        "colab": {
          "base_uri": "https://localhost:8080/"
        },
        "id": "CLnVwG8rNBYj",
        "outputId": "d8e4dd08-063e-4107-cc5e-8906a4f14de7"
      },
      "source": [
        "# Data Baru\r\n",
        "data = [{\r\n",
        "    'Customer_ID': 'CUST-100' ,  \r\n",
        "    'Nama Pelanggan': 'Joko' ,  \r\n",
        "    'Jenis Kelamin': 'Pria',  \r\n",
        "    'Umur': 45,  \r\n",
        "    'Profesi': 'Wiraswasta',  \r\n",
        "    'Tipe Residen': 'Cluster' ,  \r\n",
        "    'NilaiBelanjaSetahun': 8230000  \r\n",
        "}]\r\n",
        "\r\n",
        "new_df = pd.DataFrame(data)\r\n",
        "print(new_df)"
      ],
      "execution_count": 29,
      "outputs": [
        {
          "output_type": "stream",
          "text": [
            "  Customer_ID Nama Pelanggan  ... Tipe Residen  NilaiBelanjaSetahun\n",
            "0    CUST-100           Joko  ...      Cluster              8230000\n",
            "\n",
            "[1 rows x 7 columns]\n"
          ],
          "name": "stdout"
        }
      ]
    },
    {
      "cell_type": "code",
      "metadata": {
        "colab": {
          "base_uri": "https://localhost:8080/"
        },
        "id": "yvntcHFWOAoI",
        "outputId": "d054240a-05be-47a4-fc13-b68f49d228d4"
      },
      "source": [
        "def data_preprocess(data):\r\n",
        "  # Konversi Kategorikal data\r\n",
        "  kolom_kategorikal = ['Jenis Kelamin','Profesi','Tipe Residen']\r\n",
        "\r\n",
        "  df_encode = data[kolom_kategorikal].copy()\r\n",
        "\r\n",
        "  ## Jenis Kelamin\r\n",
        "  df_encode['Jenis Kelamin'] = df_encode['Jenis Kelamin'].map({\r\n",
        "      'Pria': 0,  \r\n",
        "      'Wanita' : 1\r\n",
        "  })\r\n",
        "\r\n",
        "  ## Profesi\r\n",
        "  df_encode['Profesi'] = df_encode['Profesi'].map({\r\n",
        "      'Ibu Rumah Tangga': 0,  \r\n",
        "      'Mahasiswa' : 1,  \r\n",
        "      'Pelajar': 2,  \r\n",
        "      'Professional': 3,  \r\n",
        "      'Wiraswasta': 4\r\n",
        "  })\r\n",
        "\r\n",
        "  ## Tipe Residen\r\n",
        "  df_encode['Tipe Residen'] = df_encode['Tipe Residen'].map({\r\n",
        "      'Cluster': 0,  \r\n",
        "      'Sector' : 1\r\n",
        "  })\r\n",
        "\r\n",
        "  # Standardisasi Numerical Data\r\n",
        "  kolom_numerik = ['Umur','NilaiBelanjaSetahun']\r\n",
        "  df_std = data[kolom_numerik].copy()\r\n",
        "\r\n",
        "  ## Standardisasi Kolom Umur\r\n",
        "  df_std['Umur'] = (df_std['Umur'] - 37.5)/14.7\r\n",
        "\r\n",
        "  ## Standardisasi Kolom Nilai Belanja Setahun  \r\n",
        "  df_std['NilaiBelanjaSetahun'] = (df_std['NilaiBelanjaSetahun'] - 7069874.8)/2590619.0 \r\n",
        "\r\n",
        "  # Menggabungkan kategorikal dan numerikal data\r\n",
        "  df_model = df_encode.merge(df_std, left_index = True, right_index = True, how='left')\r\n",
        "  return df_model\r\n",
        "\r\n",
        "# Menjalankan fungsi\r\n",
        "new_df_model = data_preprocess(new_df)\r\n",
        "\r\n",
        "print(new_df_model)"
      ],
      "execution_count": 30,
      "outputs": [
        {
          "output_type": "stream",
          "text": [
            "   Jenis Kelamin  Profesi  Tipe Residen      Umur  NilaiBelanjaSetahun\n",
            "0              0        4             0  0.510204             0.447818\n"
          ],
          "name": "stdout"
        }
      ]
    },
    {
      "cell_type": "code",
      "metadata": {
        "colab": {
          "base_uri": "https://localhost:8080/"
        },
        "id": "T1S2WIu-P22i",
        "outputId": "a885d83c-1db9-418e-b54e-ec14f16cf4dd"
      },
      "source": [
        "def modelling(data):\r\n",
        "\r\n",
        "  # Memanggil Model\r\n",
        "  kpoto = pickle.load(open('cluster.pkl','rb'))\r\n",
        "\r\n",
        "  # Melakukan Prediksi\r\n",
        "  clusters = kpoto.predict(data, categorical=[0,1,2])\r\n",
        "\r\n",
        "  return clusters\r\n",
        "\r\n",
        "# Menjalankan Fungsi\r\n",
        "clusters = modelling(new_df_model)\r\n",
        "print(clusters)"
      ],
      "execution_count": 31,
      "outputs": [
        {
          "output_type": "stream",
          "text": [
            "[1]\n"
          ],
          "name": "stdout"
        }
      ]
    },
    {
      "cell_type": "code",
      "metadata": {
        "colab": {
          "base_uri": "https://localhost:8080/"
        },
        "id": "HirAtf_LQhY7",
        "outputId": "460cd35e-359e-4b34-c7c7-c225f8109f8f"
      },
      "source": [
        "def menamakan_segmen (data_asli, clusters):  \r\n",
        "      \r\n",
        "    # Menggabungkan cluster dan data asli  \r\n",
        "    final_df = data_asli.copy()  \r\n",
        "    final_df['cluster'] = clusters  \r\n",
        "      \r\n",
        "    # Menamakan segmen  \r\n",
        "    final_df['segmen'] = final_df['cluster'].map({  \r\n",
        "        0: 'Diamond Young Member',  \r\n",
        "        1: 'Diamond Senior Member',  \r\n",
        "        2: 'Silver Students',  \r\n",
        "        3: 'Gold Young Member',  \r\n",
        "        4: 'Gold Senior Member'  \r\n",
        "    })  \r\n",
        "      \r\n",
        "    return final_df  \r\n",
        "  \r\n",
        "# Menjalankan Fungsi  \r\n",
        "new_final_df = menamakan_segmen(new_df,clusters)  \r\n",
        "  \r\n",
        "print(new_final_df)  "
      ],
      "execution_count": 33,
      "outputs": [
        {
          "output_type": "stream",
          "text": [
            "  Customer_ID Nama Pelanggan  ... cluster                 segmen\n",
            "0    CUST-100           Joko  ...       1  Diamond Senior Member\n",
            "\n",
            "[1 rows x 9 columns]\n"
          ],
          "name": "stdout"
        }
      ]
    }
  ]
}